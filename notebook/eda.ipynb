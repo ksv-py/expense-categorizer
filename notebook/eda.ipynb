{
 "cells": [
  {
   "cell_type": "code",
   "execution_count": 127,
   "id": "2945fa78",
   "metadata": {},
   "outputs": [],
   "source": [
    "import pandas as pd\n",
    "import numpy as np\n",
    "import matplotlib.pyplot as plt\n",
    "import seaborn as sns"
   ]
  },
  {
   "cell_type": "code",
   "execution_count": 128,
   "id": "b36ca70e",
   "metadata": {},
   "outputs": [],
   "source": [
    "df = pd.read_csv('../artifacts/raw.csv')\n",
    "synthetic_df = pd.read_csv('../artifacts/synthetic-data.csv')"
   ]
  },
  {
   "cell_type": "code",
   "execution_count": 129,
   "id": "6550adef",
   "metadata": {},
   "outputs": [
    {
     "name": "stdout",
     "output_type": "stream",
     "text": [
      "<class 'pandas.core.frame.DataFrame'>\n",
      "RangeIndex: 7952 entries, 0 to 7951\n",
      "Data columns (total 8 columns):\n",
      " #   Column          Non-Null Count  Dtype  \n",
      "---  ------          --------------  -----  \n",
      " 0   Date            7952 non-null   object \n",
      " 1   Mode            7952 non-null   object \n",
      " 2   Category        7952 non-null   object \n",
      " 3   Subcategory     7323 non-null   object \n",
      " 4   Note            7440 non-null   object \n",
      " 5   Amount          7952 non-null   float64\n",
      " 6   Income/Expense  7952 non-null   object \n",
      " 7   Currency        7952 non-null   object \n",
      "dtypes: float64(1), object(7)\n",
      "memory usage: 497.1+ KB\n"
     ]
    }
   ],
   "source": [
    "df.info()"
   ]
  },
  {
   "cell_type": "code",
   "execution_count": 130,
   "id": "ad439acc",
   "metadata": {},
   "outputs": [
    {
     "name": "stdout",
     "output_type": "stream",
     "text": [
      "<class 'pandas.core.frame.DataFrame'>\n",
      "RangeIndex: 5500 entries, 0 to 5499\n",
      "Data columns (total 8 columns):\n",
      " #   Column          Non-Null Count  Dtype  \n",
      "---  ------          --------------  -----  \n",
      " 0   Date            5500 non-null   object \n",
      " 1   Mode            5500 non-null   object \n",
      " 2   Category        5500 non-null   object \n",
      " 3   Subcategory     5500 non-null   object \n",
      " 4   Note            5500 non-null   object \n",
      " 5   Amount          5500 non-null   float64\n",
      " 6   Income/Expense  5500 non-null   object \n",
      " 7   Currency        5500 non-null   object \n",
      "dtypes: float64(1), object(7)\n",
      "memory usage: 343.9+ KB\n"
     ]
    }
   ],
   "source": [
    "synthetic_df.info()"
   ]
  },
  {
   "cell_type": "code",
   "execution_count": 131,
   "id": "8b52e11f",
   "metadata": {},
   "outputs": [],
   "source": [
    "df = pd.concat([df,synthetic_df], ignore_index= True)"
   ]
  },
  {
   "cell_type": "code",
   "execution_count": 132,
   "id": "eac374a5",
   "metadata": {},
   "outputs": [
    {
     "data": {
      "text/plain": [
       "Index(['Date', 'Mode', 'Category', 'Subcategory', 'Note', 'Amount',\n",
       "       'Income/Expense', 'Currency'],\n",
       "      dtype='object')"
      ]
     },
     "execution_count": 132,
     "metadata": {},
     "output_type": "execute_result"
    }
   ],
   "source": [
    "df.columns"
   ]
  },
  {
   "cell_type": "code",
   "execution_count": 133,
   "id": "88579ee7",
   "metadata": {},
   "outputs": [
    {
     "name": "stdout",
     "output_type": "stream",
     "text": [
      "<class 'pandas.core.frame.DataFrame'>\n",
      "RangeIndex: 13452 entries, 0 to 13451\n",
      "Data columns (total 8 columns):\n",
      " #   Column          Non-Null Count  Dtype  \n",
      "---  ------          --------------  -----  \n",
      " 0   Date            13452 non-null  object \n",
      " 1   Mode            13452 non-null  object \n",
      " 2   Category        13452 non-null  object \n",
      " 3   Subcategory     12823 non-null  object \n",
      " 4   Note            12940 non-null  object \n",
      " 5   Amount          13452 non-null  float64\n",
      " 6   Income/Expense  13452 non-null  object \n",
      " 7   Currency        13452 non-null  object \n",
      "dtypes: float64(1), object(7)\n",
      "memory usage: 840.9+ KB\n"
     ]
    }
   ],
   "source": [
    "df.info()"
   ]
  },
  {
   "cell_type": "markdown",
   "id": "efc9b3b5",
   "metadata": {},
   "source": [
    "Total of 2,461 Rows of data, and 8 different features.\n",
    "Date column is object type, no need to change to Date Time, will be dropped."
   ]
  },
  {
   "cell_type": "code",
   "execution_count": 134,
   "id": "53673461",
   "metadata": {},
   "outputs": [
    {
     "data": {
      "text/plain": [
       "Date                0\n",
       "Mode                0\n",
       "Category            0\n",
       "Subcategory       629\n",
       "Note              512\n",
       "Amount              0\n",
       "Income/Expense      0\n",
       "Currency            0\n",
       "dtype: int64"
      ]
     },
     "execution_count": 134,
     "metadata": {},
     "output_type": "execute_result"
    }
   ],
   "source": [
    "df.isnull().sum()"
   ]
  },
  {
   "cell_type": "markdown",
   "id": "2e0b901e",
   "metadata": {},
   "source": [
    "- 521 Null values in Note.\n",
    "- 635 Null Values in Subcategory"
   ]
  },
  {
   "cell_type": "code",
   "execution_count": 135,
   "id": "7fa2d87f",
   "metadata": {},
   "outputs": [
    {
     "data": {
      "text/html": [
       "<div>\n",
       "<style scoped>\n",
       "    .dataframe tbody tr th:only-of-type {\n",
       "        vertical-align: middle;\n",
       "    }\n",
       "\n",
       "    .dataframe tbody tr th {\n",
       "        vertical-align: top;\n",
       "    }\n",
       "\n",
       "    .dataframe thead th {\n",
       "        text-align: right;\n",
       "    }\n",
       "</style>\n",
       "<table border=\"1\" class=\"dataframe\">\n",
       "  <thead>\n",
       "    <tr style=\"text-align: right;\">\n",
       "      <th></th>\n",
       "      <th>Category</th>\n",
       "      <th>Subcategory</th>\n",
       "      <th>count</th>\n",
       "    </tr>\n",
       "  </thead>\n",
       "  <tbody>\n",
       "    <tr>\n",
       "      <th>0</th>\n",
       "      <td>Apparel</td>\n",
       "      <td>Footwear</td>\n",
       "      <td>287</td>\n",
       "    </tr>\n",
       "    <tr>\n",
       "      <th>1</th>\n",
       "      <td>Apparel</td>\n",
       "      <td>Clothing</td>\n",
       "      <td>260</td>\n",
       "    </tr>\n",
       "    <tr>\n",
       "      <th>2</th>\n",
       "      <td>Apparel</td>\n",
       "      <td>Laundry</td>\n",
       "      <td>20</td>\n",
       "    </tr>\n",
       "    <tr>\n",
       "      <th>3</th>\n",
       "      <td>Apparel</td>\n",
       "      <td>Accessories</td>\n",
       "      <td>1</td>\n",
       "    </tr>\n",
       "    <tr>\n",
       "      <th>4</th>\n",
       "      <td>Beauty</td>\n",
       "      <td>grooming</td>\n",
       "      <td>310</td>\n",
       "    </tr>\n",
       "    <tr>\n",
       "      <th>...</th>\n",
       "      <td>...</td>\n",
       "      <td>...</td>\n",
       "      <td>...</td>\n",
       "    </tr>\n",
       "    <tr>\n",
       "      <th>97</th>\n",
       "      <td>subscription</td>\n",
       "      <td>Hotstar</td>\n",
       "      <td>3</td>\n",
       "    </tr>\n",
       "    <tr>\n",
       "      <th>98</th>\n",
       "      <td>subscription</td>\n",
       "      <td>Audible</td>\n",
       "      <td>2</td>\n",
       "    </tr>\n",
       "    <tr>\n",
       "      <th>99</th>\n",
       "      <td>subscription</td>\n",
       "      <td>Wifi Internet Service</td>\n",
       "      <td>2</td>\n",
       "    </tr>\n",
       "    <tr>\n",
       "      <th>100</th>\n",
       "      <td>subscription</td>\n",
       "      <td>OTT Platform</td>\n",
       "      <td>1</td>\n",
       "    </tr>\n",
       "    <tr>\n",
       "      <th>101</th>\n",
       "      <td>water (jar /tanker)</td>\n",
       "      <td>water (jar /tanker)</td>\n",
       "      <td>310</td>\n",
       "    </tr>\n",
       "  </tbody>\n",
       "</table>\n",
       "<p>102 rows × 3 columns</p>\n",
       "</div>"
      ],
      "text/plain": [
       "                Category            Subcategory  count\n",
       "0                Apparel               Footwear    287\n",
       "1                Apparel               Clothing    260\n",
       "2                Apparel                Laundry     20\n",
       "3                Apparel            Accessories      1\n",
       "4                 Beauty               grooming    310\n",
       "..                   ...                    ...    ...\n",
       "97          subscription                Hotstar      3\n",
       "98          subscription                Audible      2\n",
       "99          subscription  Wifi Internet Service      2\n",
       "100         subscription           OTT Platform      1\n",
       "101  water (jar /tanker)    water (jar /tanker)    310\n",
       "\n",
       "[102 rows x 3 columns]"
      ]
     },
     "execution_count": 135,
     "metadata": {},
     "output_type": "execute_result"
    }
   ],
   "source": [
    "df.groupby('Category')['Subcategory'].value_counts().reset_index()"
   ]
  },
  {
   "cell_type": "markdown",
   "id": "dcf5a9d5",
   "metadata": {},
   "source": [
    "# 3"
   ]
  },
  {
   "cell_type": "code",
   "execution_count": 136,
   "id": "80aa20a4",
   "metadata": {},
   "outputs": [],
   "source": [
    "grouped = df.groupby(['Category', 'Subcategory']).size().reset_index(name='count')\n",
    "sub_cat = grouped.groupby('Category')['Subcategory'].apply(list).to_dict()"
   ]
  },
  {
   "cell_type": "code",
   "execution_count": 137,
   "id": "bba9d9b2",
   "metadata": {},
   "outputs": [
    {
     "data": {
      "text/plain": [
       "{'Apparel': ['Accessories', 'Clothing', 'Footwear', 'Laundry'],\n",
       " 'Beauty': ['Accessories', 'Makeup', 'grooming'],\n",
       " 'Culture': ['Books', 'Movie'],\n",
       " 'Documents': ['Courier', 'Updation'],\n",
       " 'Education': ['School supplies', 'Stationary'],\n",
       " 'Family': ['Pocket money',\n",
       "  'clothes',\n",
       "  'exam fee',\n",
       "  'gift',\n",
       "  'makeup',\n",
       "  'medicine',\n",
       "  'misc'],\n",
       " 'Festivals': ['Diwali', 'Ganesh Pujan', 'Holi', 'Navratri', 'Rakshabandhan'],\n",
       " 'Food': ['Biscuits',\n",
       "  'Bread',\n",
       "  'Dinner',\n",
       "  'Eating out',\n",
       "  'Eggs',\n",
       "  'Grocery',\n",
       "  'Ice cream',\n",
       "  'Lunch',\n",
       "  'Milk',\n",
       "  'Onions',\n",
       "  'Potato',\n",
       "  'Rajgira ladu',\n",
       "  'Sweets',\n",
       "  'Tea',\n",
       "  'Water',\n",
       "  'beverage',\n",
       "  'breakfast',\n",
       "  'chocolate',\n",
       "  'curd',\n",
       "  'flour mill',\n",
       "  'fruits',\n",
       "  'snacks',\n",
       "  'vegetables'],\n",
       " 'Gift': ['Gift'],\n",
       " 'Grooming': ['Saloon'],\n",
       " 'Health': ['Health', 'Hospital', 'Lab Tests', 'Medicine'],\n",
       " 'Household': ['Appliances',\n",
       "  'Furniture',\n",
       "  'Hardware',\n",
       "  'Kirana',\n",
       "  'Kitchen',\n",
       "  'Toiletries',\n",
       "  'gadgets',\n",
       "  'home decor'],\n",
       " 'Investment': ['LIC', 'Mutual fund', 'Public Provident Fund', 'RD'],\n",
       " 'Money transfer': ['Home', 'Money transfer'],\n",
       " 'Other': ['Donation'],\n",
       " 'Public Provident Fund': ['Public Provident Fund'],\n",
       " 'Recurring Deposit': ['Recurring Deposit'],\n",
       " 'Rent': ['Rent'],\n",
       " 'Self-development': ['Self-development'],\n",
       " 'Social Life': ['Leisure'],\n",
       " 'Tourism': ['Entry Fees', 'Trip'],\n",
       " 'Transportation': ['Bike',\n",
       "  'Bus',\n",
       "  'Petrol',\n",
       "  'Taxi',\n",
       "  'Train',\n",
       "  'Travels',\n",
       "  'auto',\n",
       "  'ropeway',\n",
       "  'train'],\n",
       " 'subscription': ['Airtel',\n",
       "  'Amazon Prime',\n",
       "  'Audible',\n",
       "  'Cable TV',\n",
       "  'DishTV',\n",
       "  'Edtech Course',\n",
       "  'Hotstar',\n",
       "  'Kindle unlimited',\n",
       "  'Mahanagar Gas',\n",
       "  'Mobile Service Provider',\n",
       "  'Netflix',\n",
       "  'Newspaper',\n",
       "  'OTT Platform',\n",
       "  'Spotify',\n",
       "  'Tata Sky',\n",
       "  'Wifi Internet Service'],\n",
       " 'water (jar /tanker)': ['water (jar /tanker)']}"
      ]
     },
     "execution_count": 137,
     "metadata": {},
     "output_type": "execute_result"
    }
   ],
   "source": [
    "sub_cat"
   ]
  },
  {
   "cell_type": "code",
   "execution_count": 138,
   "id": "3ca9c351",
   "metadata": {},
   "outputs": [],
   "source": [
    "import random\n",
    "\n",
    "def impute_subcategory(row):\n",
    "    if pd.isna(row['Subcategory']):\n",
    "        options = sub_cat.get(row['Category'], [])\n",
    "        return random.choice(options) if options else row['Category']\n",
    "    return row['Subcategory']\n",
    "\n",
    "df['Subcategory'] = df.apply(impute_subcategory, axis=1)"
   ]
  },
  {
   "cell_type": "code",
   "execution_count": 139,
   "id": "4a5ab632",
   "metadata": {},
   "outputs": [
    {
     "data": {
      "text/plain": [
       "Date                0\n",
       "Mode                0\n",
       "Category            0\n",
       "Subcategory         0\n",
       "Note              512\n",
       "Amount              0\n",
       "Income/Expense      0\n",
       "Currency            0\n",
       "dtype: int64"
      ]
     },
     "execution_count": 139,
     "metadata": {},
     "output_type": "execute_result"
    }
   ],
   "source": [
    "df.isna().sum()"
   ]
  },
  {
   "cell_type": "code",
   "execution_count": 140,
   "id": "99a98291",
   "metadata": {},
   "outputs": [],
   "source": [
    "df.drop(columns=['Note'], inplace= True)"
   ]
  },
  {
   "cell_type": "code",
   "execution_count": 141,
   "id": "eeb2f83c",
   "metadata": {},
   "outputs": [
    {
     "data": {
      "text/html": [
       "<div>\n",
       "<style scoped>\n",
       "    .dataframe tbody tr th:only-of-type {\n",
       "        vertical-align: middle;\n",
       "    }\n",
       "\n",
       "    .dataframe tbody tr th {\n",
       "        vertical-align: top;\n",
       "    }\n",
       "\n",
       "    .dataframe thead th {\n",
       "        text-align: right;\n",
       "    }\n",
       "</style>\n",
       "<table border=\"1\" class=\"dataframe\">\n",
       "  <thead>\n",
       "    <tr style=\"text-align: right;\">\n",
       "      <th></th>\n",
       "      <th>Date</th>\n",
       "      <th>Mode</th>\n",
       "      <th>Category</th>\n",
       "      <th>Subcategory</th>\n",
       "      <th>Amount</th>\n",
       "      <th>Income/Expense</th>\n",
       "      <th>Currency</th>\n",
       "    </tr>\n",
       "  </thead>\n",
       "  <tbody>\n",
       "    <tr>\n",
       "      <th>1255</th>\n",
       "      <td>8/6/2017</td>\n",
       "      <td>Cash</td>\n",
       "      <td>Transportation</td>\n",
       "      <td>auto</td>\n",
       "      <td>30.00</td>\n",
       "      <td>Expense</td>\n",
       "      <td>INR</td>\n",
       "    </tr>\n",
       "    <tr>\n",
       "      <th>1407</th>\n",
       "      <td>1/5/2017</td>\n",
       "      <td>Cash</td>\n",
       "      <td>Transportation</td>\n",
       "      <td>auto</td>\n",
       "      <td>30.00</td>\n",
       "      <td>Expense</td>\n",
       "      <td>INR</td>\n",
       "    </tr>\n",
       "    <tr>\n",
       "      <th>1517</th>\n",
       "      <td>12/3/2017</td>\n",
       "      <td>Cash</td>\n",
       "      <td>Transportation</td>\n",
       "      <td>auto</td>\n",
       "      <td>30.00</td>\n",
       "      <td>Expense</td>\n",
       "      <td>INR</td>\n",
       "    </tr>\n",
       "    <tr>\n",
       "      <th>1545</th>\n",
       "      <td>5/3/2017</td>\n",
       "      <td>Cash</td>\n",
       "      <td>Transportation</td>\n",
       "      <td>auto</td>\n",
       "      <td>30.00</td>\n",
       "      <td>Expense</td>\n",
       "      <td>INR</td>\n",
       "    </tr>\n",
       "    <tr>\n",
       "      <th>1570</th>\n",
       "      <td>27/02/2017 18:42:27</td>\n",
       "      <td>Cash</td>\n",
       "      <td>Transportation</td>\n",
       "      <td>auto</td>\n",
       "      <td>30.00</td>\n",
       "      <td>Expense</td>\n",
       "      <td>INR</td>\n",
       "    </tr>\n",
       "    <tr>\n",
       "      <th>...</th>\n",
       "      <td>...</td>\n",
       "      <td>...</td>\n",
       "      <td>...</td>\n",
       "      <td>...</td>\n",
       "      <td>...</td>\n",
       "      <td>...</td>\n",
       "      <td>...</td>\n",
       "    </tr>\n",
       "    <tr>\n",
       "      <th>13447</th>\n",
       "      <td>2025-05-14</td>\n",
       "      <td>Netbanking</td>\n",
       "      <td>subscription</td>\n",
       "      <td>Netflix</td>\n",
       "      <td>199.00</td>\n",
       "      <td>Expense</td>\n",
       "      <td>INR</td>\n",
       "    </tr>\n",
       "    <tr>\n",
       "      <th>13448</th>\n",
       "      <td>2025-03-29</td>\n",
       "      <td>Credit Card</td>\n",
       "      <td>Family</td>\n",
       "      <td>Pocket money</td>\n",
       "      <td>4732.04</td>\n",
       "      <td>Expense</td>\n",
       "      <td>INR</td>\n",
       "    </tr>\n",
       "    <tr>\n",
       "      <th>13449</th>\n",
       "      <td>2025-04-29</td>\n",
       "      <td>Cash</td>\n",
       "      <td>subscription</td>\n",
       "      <td>Edtech Course</td>\n",
       "      <td>50.21</td>\n",
       "      <td>Expense</td>\n",
       "      <td>INR</td>\n",
       "    </tr>\n",
       "    <tr>\n",
       "      <th>13450</th>\n",
       "      <td>2025-04-22</td>\n",
       "      <td>Cash</td>\n",
       "      <td>Transportation</td>\n",
       "      <td>Train</td>\n",
       "      <td>3496.08</td>\n",
       "      <td>Expense</td>\n",
       "      <td>INR</td>\n",
       "    </tr>\n",
       "    <tr>\n",
       "      <th>13451</th>\n",
       "      <td>2025-06-06</td>\n",
       "      <td>Credit Card</td>\n",
       "      <td>Festivals</td>\n",
       "      <td>Diwali</td>\n",
       "      <td>3171.84</td>\n",
       "      <td>Expense</td>\n",
       "      <td>INR</td>\n",
       "    </tr>\n",
       "  </tbody>\n",
       "</table>\n",
       "<p>5516 rows × 7 columns</p>\n",
       "</div>"
      ],
      "text/plain": [
       "                      Date         Mode        Category    Subcategory  \\\n",
       "1255              8/6/2017         Cash  Transportation           auto   \n",
       "1407              1/5/2017         Cash  Transportation           auto   \n",
       "1517             12/3/2017         Cash  Transportation           auto   \n",
       "1545              5/3/2017         Cash  Transportation           auto   \n",
       "1570   27/02/2017 18:42:27         Cash  Transportation           auto   \n",
       "...                    ...          ...             ...            ...   \n",
       "13447           2025-05-14   Netbanking    subscription        Netflix   \n",
       "13448           2025-03-29  Credit Card          Family   Pocket money   \n",
       "13449           2025-04-29         Cash    subscription  Edtech Course   \n",
       "13450           2025-04-22         Cash  Transportation          Train   \n",
       "13451           2025-06-06  Credit Card       Festivals         Diwali   \n",
       "\n",
       "        Amount Income/Expense Currency  \n",
       "1255     30.00        Expense      INR  \n",
       "1407     30.00        Expense      INR  \n",
       "1517     30.00        Expense      INR  \n",
       "1545     30.00        Expense      INR  \n",
       "1570     30.00        Expense      INR  \n",
       "...        ...            ...      ...  \n",
       "13447   199.00        Expense      INR  \n",
       "13448  4732.04        Expense      INR  \n",
       "13449    50.21        Expense      INR  \n",
       "13450  3496.08        Expense      INR  \n",
       "13451  3171.84        Expense      INR  \n",
       "\n",
       "[5516 rows x 7 columns]"
      ]
     },
     "execution_count": 141,
     "metadata": {},
     "output_type": "execute_result"
    }
   ],
   "source": [
    "df[df.duplicated()]"
   ]
  },
  {
   "cell_type": "code",
   "execution_count": 142,
   "id": "557f06fd",
   "metadata": {},
   "outputs": [
    {
     "data": {
      "text/plain": [
       "array(['Cash', 'Saving Bank account 1', 'Credit Card',\n",
       "       'Equity Mutual Fund B', 'Debit Card', 'Share Market Trading',\n",
       "       'Saving Bank account 2', 'Equity Mutual Fund C',\n",
       "       'Equity Mutual Fund A', 'Equity Mutual Fund D', 'Fixed Deposit',\n",
       "       'Recurring Deposit', 'UPI', 'Netbanking'], dtype=object)"
      ]
     },
     "execution_count": 142,
     "metadata": {},
     "output_type": "execute_result"
    }
   ],
   "source": [
    "df.Mode.unique()"
   ]
  },
  {
   "cell_type": "code",
   "execution_count": 143,
   "id": "b6a7c5f3",
   "metadata": {},
   "outputs": [],
   "source": [
    "df.loc[pd.isna(df['Subcategory']), 'Subcategory'] = df.loc[pd.isna(df['Subcategory']), 'Category']"
   ]
  },
  {
   "cell_type": "code",
   "execution_count": 144,
   "id": "b5f15dad",
   "metadata": {},
   "outputs": [
    {
     "data": {
      "text/plain": [
       "np.int64(0)"
      ]
     },
     "execution_count": 144,
     "metadata": {},
     "output_type": "execute_result"
    }
   ],
   "source": [
    "df['Subcategory'].isna().sum()"
   ]
  },
  {
   "cell_type": "code",
   "execution_count": 145,
   "id": "de83a330",
   "metadata": {},
   "outputs": [],
   "source": [
    "df.drop_duplicates(inplace=True)"
   ]
  },
  {
   "cell_type": "code",
   "execution_count": null,
   "id": "feefd2e8",
   "metadata": {},
   "outputs": [],
   "source": []
  },
  {
   "cell_type": "code",
   "execution_count": 146,
   "id": "d0421cb2",
   "metadata": {},
   "outputs": [
    {
     "data": {
      "text/plain": [
       "Date              1792\n",
       "Mode                14\n",
       "Category            50\n",
       "Subcategory        126\n",
       "Amount            5615\n",
       "Income/Expense       3\n",
       "Currency             1\n",
       "dtype: int64"
      ]
     },
     "execution_count": 146,
     "metadata": {},
     "output_type": "execute_result"
    }
   ],
   "source": [
    "df.nunique()"
   ]
  },
  {
   "cell_type": "markdown",
   "id": "4b0dec70",
   "metadata": {},
   "source": [
    "- INR is the only unique currency."
   ]
  },
  {
   "cell_type": "markdown",
   "id": "3778558f",
   "metadata": {},
   "source": [
    "# 1"
   ]
  },
  {
   "cell_type": "code",
   "execution_count": 147,
   "id": "bbe8e47d",
   "metadata": {},
   "outputs": [],
   "source": [
    "other_cat = df['Category'].value_counts()<18\n",
    "other_cat_names = other_cat[other_cat].index\n",
    "\n",
    "df['Category'] = df['Category'].apply(lambda x: 'Other' if x in other_cat_names else x)"
   ]
  },
  {
   "cell_type": "code",
   "execution_count": 148,
   "id": "d6ae7cd7",
   "metadata": {},
   "outputs": [
    {
     "data": {
      "text/plain": [
       "array(['Cash', 'Saving Bank account 1', 'Credit Card',\n",
       "       'Equity Mutual Fund B', 'Debit Card', 'Share Market Trading',\n",
       "       'Saving Bank account 2', 'Equity Mutual Fund C',\n",
       "       'Equity Mutual Fund A', 'Equity Mutual Fund D', 'Fixed Deposit',\n",
       "       'Recurring Deposit', 'UPI', 'Netbanking'], dtype=object)"
      ]
     },
     "execution_count": 148,
     "metadata": {},
     "output_type": "execute_result"
    }
   ],
   "source": [
    "df.Mode.unique()"
   ]
  },
  {
   "cell_type": "markdown",
   "id": "f9b7a224",
   "metadata": {},
   "source": [
    "Transactions through Bank is most preferred by the people with 49.7% of total transactions, Cash serves as the secondary option with 42.5%. "
   ]
  },
  {
   "cell_type": "code",
   "execution_count": 170,
   "id": "255f5330",
   "metadata": {},
   "outputs": [
    {
     "name": "stdout",
     "output_type": "stream",
     "text": [
      "Categories in \"Mode\" variable: ['Cash' 'Netbanking' 'Credit Card' 'Debit Card' 'UPI']\n",
      "----------------------------------------------------------------------------\n",
      "Categories in \"Category\" variable: ['Transportation' 'Food' 'subscription' 'Festivals' 'Other' 'Family'\n",
      " 'Apparel' 'Gift' 'Household' 'Beauty' 'Health' 'Money transfer' 'Culture'\n",
      " 'Tourism' 'Self-development' 'Education' 'Social Life' 'Investment'\n",
      " 'Recurring Deposit' 'Grooming' 'Public Provident Fund' 'Rent'\n",
      " 'water (jar /tanker)']\n",
      "----------------------------------------------------------------------------\n",
      "Categories in \"Subcategory\" variable: ['Train' 'snacks' 'Netflix' 'Mobile Service Provider' 'Ganesh Pujan'\n",
      " 'Tata Sky' 'auto' 'Donation' 'Grocery' 'Lunch' 'Milk' 'Pocket money'\n",
      " 'Laundry' 'breakfast' 'Gift' 'Dinner' 'Sweets' 'Kirana' 'Ice cream'\n",
      " 'curd' 'Biscuits' 'Rajgira ladu' 'Navratri' 'train' 'Tea' 'flour mill'\n",
      " 'Appliances' 'home decor' 'grooming' 'Health' 'Clothing' 'clothes' 'Home'\n",
      " 'maid' 'chocolate' 'Medicine' 'Eating out' 'Movie' 'vegetables' 'fruits'\n",
      " 'Potato' 'Onions' 'Taxi' 'Hardware' 'Eggs' 'Bread' 'Petrol' 'Hospital'\n",
      " 'Mahanagar Gas' 'Lab Tests' 'Bus' 'Travels' 'Kitchen' 'Footwear'\n",
      " 'Entry Fees' 'gadgets' 'Accessories' 'Self-development' 'misc'\n",
      " 'Stationary' 'Newspaper' 'Toiletries' 'Bike' 'beverage' 'makeup' 'Books'\n",
      " 'Holi' 'Courier' 'Leisure' 'Updation' 'Amazon Prime' 'Edtech Course'\n",
      " 'Hotstar' 'Diwali' 'Wifi Internet Service' 'Trip' 'Furniture' 'Water'\n",
      " 'Cable TV' 'Money transfer' 'medicine' 'Mutual fund' 'Recurring Deposit'\n",
      " 'Public Provident Fund' 'ropeway' 'RD' 'LIC' 'Saloon' 'gift'\n",
      " 'Rakshabandhan' 'exam fee' 'Kindle unlimited' 'OTT Platform'\n",
      " 'School supplies' 'Audible' 'Makeup' 'Rent' 'Cook' 'garbage disposal'\n",
      " 'water (jar /tanker)' 'Spotify' 'Airtel' 'DishTV']\n",
      "----------------------------------------------------------------------------\n",
      "Categories in \"Income/Expense\" variable: ['Expense']\n",
      "----------------------------------------------------------------------------\n",
      "Categories in \"Currency\" variable: ['INR']\n",
      "----------------------------------------------------------------------------\n",
      "Categories in \"TransactionType\" variable: ['Expense']\n",
      "----------------------------------------------------------------------------\n",
      "Categories in \"Year\" variable: [2018. 2017. 2016. 2015.   nan]\n",
      "----------------------------------------------------------------------------\n",
      "Categories in \"Month\" variable: [ 9.  8.  7.  6.  5.  4.  3.  2.  1. 12. 11. 10. nan]\n",
      "----------------------------------------------------------------------------\n",
      "Categories in \"Day\" variable: [20. 19. 17. 16. 15. 14. 13. 12. 11. 10.  8.  7.  6.  5.  3. 31. 30. 29.\n",
      " 27. 25. 24. 23. 22. 21.  2.  1. 28. 26. 18.  9.  4. nan]\n",
      "----------------------------------------------------------------------------\n",
      "Categories in \"Weekday\" variable: ['Thursday' 'Wednesday' 'Monday' 'Sunday' 'Saturday' 'Friday' 'Tuesday'\n",
      " nan]\n",
      "----------------------------------------------------------------------------\n",
      "Categories in \"IsWeekend\" variable: [0 1]\n",
      "----------------------------------------------------------------------------\n"
     ]
    }
   ],
   "source": [
    "for col in df.columns:\n",
    "    if col in ['Date','Note','Amount']:\n",
    "        continue\n",
    "    print(f'Categories in \"{col}\" variable: {df[col].unique()}')\n",
    "    print('----------------------------------------------------------------------------')\n",
    "    "
   ]
  },
  {
   "cell_type": "code",
   "execution_count": 150,
   "id": "04fb46b5",
   "metadata": {},
   "outputs": [
    {
     "data": {
      "text/plain": [
       "array(['Cash', 'Saving Bank account 1', 'Credit Card',\n",
       "       'Equity Mutual Fund B', 'Debit Card', 'Share Market Trading',\n",
       "       'Saving Bank account 2', 'Equity Mutual Fund C',\n",
       "       'Equity Mutual Fund A', 'Equity Mutual Fund D', 'Fixed Deposit',\n",
       "       'Recurring Deposit', 'UPI', 'Netbanking'], dtype=object)"
      ]
     },
     "execution_count": 150,
     "metadata": {},
     "output_type": "execute_result"
    }
   ],
   "source": [
    "df.Mode.unique()"
   ]
  },
  {
   "cell_type": "code",
   "execution_count": 151,
   "id": "740924b8",
   "metadata": {},
   "outputs": [],
   "source": [
    "df['Category'] = df['Category'].replace(\n",
    "    to_replace= r'Equity Mutual Fund [A-Z]',\n",
    "    value= 'Mutual Funds',\n",
    "    regex=True\n",
    ")"
   ]
  },
  {
   "cell_type": "code",
   "execution_count": 152,
   "id": "d6e0d480",
   "metadata": {},
   "outputs": [
    {
     "data": {
      "text/html": [
       "<div>\n",
       "<style scoped>\n",
       "    .dataframe tbody tr th:only-of-type {\n",
       "        vertical-align: middle;\n",
       "    }\n",
       "\n",
       "    .dataframe tbody tr th {\n",
       "        vertical-align: top;\n",
       "    }\n",
       "\n",
       "    .dataframe thead th {\n",
       "        text-align: right;\n",
       "    }\n",
       "</style>\n",
       "<table border=\"1\" class=\"dataframe\">\n",
       "  <thead>\n",
       "    <tr style=\"text-align: right;\">\n",
       "      <th></th>\n",
       "      <th>Date</th>\n",
       "      <th>Mode</th>\n",
       "      <th>Category</th>\n",
       "      <th>Subcategory</th>\n",
       "      <th>Amount</th>\n",
       "      <th>Income/Expense</th>\n",
       "      <th>Currency</th>\n",
       "    </tr>\n",
       "  </thead>\n",
       "  <tbody>\n",
       "    <tr>\n",
       "      <th>2</th>\n",
       "      <td>19/09/2018</td>\n",
       "      <td>Saving Bank account 1</td>\n",
       "      <td>subscription</td>\n",
       "      <td>Netflix</td>\n",
       "      <td>199.00</td>\n",
       "      <td>Expense</td>\n",
       "      <td>INR</td>\n",
       "    </tr>\n",
       "    <tr>\n",
       "      <th>3</th>\n",
       "      <td>17/09/2018 23:41:17</td>\n",
       "      <td>Saving Bank account 1</td>\n",
       "      <td>subscription</td>\n",
       "      <td>Mobile Service Provider</td>\n",
       "      <td>19.00</td>\n",
       "      <td>Expense</td>\n",
       "      <td>INR</td>\n",
       "    </tr>\n",
       "    <tr>\n",
       "      <th>7</th>\n",
       "      <td>13/09/2018 21:35:15</td>\n",
       "      <td>Saving Bank account 1</td>\n",
       "      <td>Transportation</td>\n",
       "      <td>Train</td>\n",
       "      <td>40.00</td>\n",
       "      <td>Expense</td>\n",
       "      <td>INR</td>\n",
       "    </tr>\n",
       "    <tr>\n",
       "      <th>10</th>\n",
       "      <td>13/09/2018</td>\n",
       "      <td>Saving Bank account 1</td>\n",
       "      <td>Other</td>\n",
       "      <td>Small Cap fund 2</td>\n",
       "      <td>5000.00</td>\n",
       "      <td>Transfer-Out</td>\n",
       "      <td>INR</td>\n",
       "    </tr>\n",
       "    <tr>\n",
       "      <th>11</th>\n",
       "      <td>13/09/2018</td>\n",
       "      <td>Saving Bank account 1</td>\n",
       "      <td>Other</td>\n",
       "      <td>Small cap fund 1</td>\n",
       "      <td>5000.00</td>\n",
       "      <td>Transfer-Out</td>\n",
       "      <td>INR</td>\n",
       "    </tr>\n",
       "    <tr>\n",
       "      <th>...</th>\n",
       "      <td>...</td>\n",
       "      <td>...</td>\n",
       "      <td>...</td>\n",
       "      <td>...</td>\n",
       "      <td>...</td>\n",
       "      <td>...</td>\n",
       "      <td>...</td>\n",
       "    </tr>\n",
       "    <tr>\n",
       "      <th>7926</th>\n",
       "      <td>2025-02-26</td>\n",
       "      <td>Netbanking</td>\n",
       "      <td>Gift</td>\n",
       "      <td>Gift</td>\n",
       "      <td>3462.61</td>\n",
       "      <td>Expense</td>\n",
       "      <td>INR</td>\n",
       "    </tr>\n",
       "    <tr>\n",
       "      <th>7937</th>\n",
       "      <td>2025-04-25</td>\n",
       "      <td>Netbanking</td>\n",
       "      <td>Food</td>\n",
       "      <td>Grocery</td>\n",
       "      <td>1473.24</td>\n",
       "      <td>Expense</td>\n",
       "      <td>INR</td>\n",
       "    </tr>\n",
       "    <tr>\n",
       "      <th>7939</th>\n",
       "      <td>2025-01-15</td>\n",
       "      <td>Netbanking</td>\n",
       "      <td>Household</td>\n",
       "      <td>Appliances</td>\n",
       "      <td>2302.27</td>\n",
       "      <td>Expense</td>\n",
       "      <td>INR</td>\n",
       "    </tr>\n",
       "    <tr>\n",
       "      <th>7945</th>\n",
       "      <td>2025-05-03</td>\n",
       "      <td>Netbanking</td>\n",
       "      <td>Festivals</td>\n",
       "      <td>Holi</td>\n",
       "      <td>2819.07</td>\n",
       "      <td>Expense</td>\n",
       "      <td>INR</td>\n",
       "    </tr>\n",
       "    <tr>\n",
       "      <th>7947</th>\n",
       "      <td>2025-05-14</td>\n",
       "      <td>Netbanking</td>\n",
       "      <td>subscription</td>\n",
       "      <td>Netflix</td>\n",
       "      <td>199.00</td>\n",
       "      <td>Expense</td>\n",
       "      <td>INR</td>\n",
       "    </tr>\n",
       "  </tbody>\n",
       "</table>\n",
       "<p>2290 rows × 7 columns</p>\n",
       "</div>"
      ],
      "text/plain": [
       "                     Date                   Mode        Category  \\\n",
       "2              19/09/2018  Saving Bank account 1    subscription   \n",
       "3     17/09/2018 23:41:17  Saving Bank account 1    subscription   \n",
       "7     13/09/2018 21:35:15  Saving Bank account 1  Transportation   \n",
       "10             13/09/2018  Saving Bank account 1           Other   \n",
       "11             13/09/2018  Saving Bank account 1           Other   \n",
       "...                   ...                    ...             ...   \n",
       "7926           2025-02-26             Netbanking            Gift   \n",
       "7937           2025-04-25             Netbanking            Food   \n",
       "7939           2025-01-15             Netbanking       Household   \n",
       "7945           2025-05-03             Netbanking       Festivals   \n",
       "7947           2025-05-14             Netbanking    subscription   \n",
       "\n",
       "                  Subcategory   Amount Income/Expense Currency  \n",
       "2                     Netflix   199.00        Expense      INR  \n",
       "3     Mobile Service Provider    19.00        Expense      INR  \n",
       "7                       Train    40.00        Expense      INR  \n",
       "10           Small Cap fund 2  5000.00   Transfer-Out      INR  \n",
       "11           Small cap fund 1  5000.00   Transfer-Out      INR  \n",
       "...                       ...      ...            ...      ...  \n",
       "7926                     Gift  3462.61        Expense      INR  \n",
       "7937                  Grocery  1473.24        Expense      INR  \n",
       "7939               Appliances  2302.27        Expense      INR  \n",
       "7945                     Holi  2819.07        Expense      INR  \n",
       "7947                  Netflix   199.00        Expense      INR  \n",
       "\n",
       "[2290 rows x 7 columns]"
      ]
     },
     "execution_count": 152,
     "metadata": {},
     "output_type": "execute_result"
    }
   ],
   "source": [
    "df[df['Mode'].str.contains('bank', case=False, na=False)]"
   ]
  },
  {
   "cell_type": "markdown",
   "id": "793c5aef",
   "metadata": {},
   "source": [
    "# 2"
   ]
  },
  {
   "cell_type": "code",
   "execution_count": 153,
   "id": "650a8dcc",
   "metadata": {},
   "outputs": [],
   "source": [
    "df['Mode'] = df['Mode'].replace(\n",
    "    to_replace= r'Saving Bank account [0-9]',\n",
    "    value= 'Netbanking',\n",
    "    regex=True\n",
    ")\n",
    "df['Mode'] = df['Mode'].replace(\n",
    "    to_replace= r'Equity Mutual Fund [A-Z]',\n",
    "    value= 'Investment',\n",
    "    regex=True\n",
    ")\n",
    "df['Mode'] = df['Mode'].replace(\n",
    "    to_replace= 'Share Market Trading',\n",
    "    value= 'Investment',\n",
    "    regex=True\n",
    ")\n",
    "df['Mode'] = df['Mode'].replace(\n",
    "    to_replace= 'Fixed Deposit',\n",
    "    value= 'Investment',\n",
    "    regex=True\n",
    ")\n",
    "df['Mode'] = df['Mode'].replace(\n",
    "    to_replace= 'Recurring Deposit',\n",
    "    value= 'Investment',\n",
    "    regex=True\n",
    ")\n"
   ]
  },
  {
   "cell_type": "code",
   "execution_count": 154,
   "id": "6516f6b1",
   "metadata": {},
   "outputs": [],
   "source": [
    "df['TransactionType'] = df['Income/Expense'].replace({\n",
    "    'Income': 'Income',\n",
    "    'Expense': 'Expense',\n",
    "    'Transfer-Out': 'Transfer'\n",
    "})"
   ]
  },
  {
   "cell_type": "code",
   "execution_count": 155,
   "id": "025b14b4",
   "metadata": {},
   "outputs": [],
   "source": [
    "df['Date']=df['Date'].str.split(' ').str[0]"
   ]
  },
  {
   "cell_type": "code",
   "execution_count": 156,
   "id": "fe5478e7",
   "metadata": {},
   "outputs": [
    {
     "name": "stderr",
     "output_type": "stream",
     "text": [
      "C:\\Users\\kesha\\AppData\\Local\\Temp\\ipykernel_18880\\3910743014.py:1: UserWarning: Parsing dates in %d/%m/%Y format when dayfirst=False (the default) was specified. Pass `dayfirst=True` or specify a format to silence this warning.\n",
      "  df['Date'] = pd.to_datetime(df['Date'], errors = 'coerce')\n"
     ]
    }
   ],
   "source": [
    "df['Date'] = pd.to_datetime(df['Date'], errors = 'coerce')\n",
    "df['Year'] = df['Date'].dt.year\n",
    "df['Month'] = df['Date'].dt.month\n",
    "df['Day'] = df['Date'].dt.day\n",
    "df['Weekday'] = df['Date'].dt.day_name()\n",
    "\n",
    "df['IsWeekend'] = df['Weekday'].isin(['Sunday','Saturday']).astype(int)\n",
    "\n"
   ]
  },
  {
   "cell_type": "code",
   "execution_count": 157,
   "id": "bc60b3cd",
   "metadata": {},
   "outputs": [
    {
     "name": "stderr",
     "output_type": "stream",
     "text": [
      "C:\\Users\\kesha\\AppData\\Local\\Temp\\ipykernel_18880\\3005497117.py:2: FutureWarning: \n",
      "\n",
      "Passing `palette` without assigning `hue` is deprecated and will be removed in v0.14.0. Assign the `x` variable to `hue` and set `legend=False` for the same effect.\n",
      "\n",
      "  sns.countplot(data=df, x='Income/Expense', palette='Set2')\n"
     ]
    },
    {
     "data": {
      "image/png": "[encoded data removed]",
      "text/plain": [
       "<Figure size 600x400 with 1 Axes>"
      ]
     },
     "metadata": {},
     "output_type": "display_data"
    }
   ],
   "source": [
    "plt.figure(figsize=(6,4))\n",
    "sns.countplot(data=df, x='Income/Expense', palette='Set2')\n",
    "plt.title('Transaction Type Distribution')\n",
    "plt.xlabel('Type')\n",
    "plt.ylabel('Count')\n",
    "plt.show()"
   ]
  },
  {
   "cell_type": "code",
   "execution_count": 158,
   "id": "49c81dc6",
   "metadata": {},
   "outputs": [
    {
     "name": "stderr",
     "output_type": "stream",
     "text": [
      "C:\\Users\\kesha\\AppData\\Local\\Temp\\ipykernel_18880\\829680734.py:3: FutureWarning: \n",
      "\n",
      "Passing `palette` without assigning `hue` is deprecated and will be removed in v0.14.0. Assign the `y` variable to `hue` and set `legend=False` for the same effect.\n",
      "\n",
      "  sns.barplot(x=top_categories.values, y=top_categories.index, palette='viridis')\n"
     ]
    },
    {
     "data": {
      "image/png": "[encoded data removed]",
      "text/plain": [
       "<Figure size 1000x600 with 1 Axes>"
      ]
     },
     "metadata": {},
     "output_type": "display_data"
    }
   ],
   "source": [
    "plt.figure(figsize=(10,6))\n",
    "top_categories = df[df['Income/Expense'] == 'Expense']['Category'].value_counts().head(10)\n",
    "sns.barplot(x=top_categories.values, y=top_categories.index, palette='viridis')\n",
    "plt.title('Top 10 Expense Categories')\n",
    "plt.xlabel('Number of Transactions')\n",
    "plt.ylabel('Category')\n",
    "plt.show()      "
   ]
  },
  {
   "cell_type": "code",
   "execution_count": 159,
   "id": "376816b1",
   "metadata": {},
   "outputs": [
    {
     "name": "stdout",
     "output_type": "stream",
     "text": [
      "<class 'pandas.core.frame.DataFrame'>\n",
      "Index: 7936 entries, 0 to 7951\n",
      "Data columns (total 13 columns):\n",
      " #   Column           Non-Null Count  Dtype         \n",
      "---  ------           --------------  -----         \n",
      " 0   Date             2443 non-null   datetime64[ns]\n",
      " 1   Mode             7936 non-null   object        \n",
      " 2   Category         7936 non-null   object        \n",
      " 3   Subcategory      7936 non-null   object        \n",
      " 4   Amount           7936 non-null   float64       \n",
      " 5   Income/Expense   7936 non-null   object        \n",
      " 6   Currency         7936 non-null   object        \n",
      " 7   TransactionType  7936 non-null   object        \n",
      " 8   Year             2443 non-null   float64       \n",
      " 9   Month            2443 non-null   float64       \n",
      " 10  Day              2443 non-null   float64       \n",
      " 11  Weekday          2443 non-null   object        \n",
      " 12  IsWeekend        7936 non-null   int64         \n",
      "dtypes: datetime64[ns](1), float64(4), int64(1), object(7)\n",
      "memory usage: 868.0+ KB\n"
     ]
    }
   ],
   "source": [
    "df.info()"
   ]
  },
  {
   "cell_type": "code",
   "execution_count": 160,
   "id": "32146eeb",
   "metadata": {},
   "outputs": [
    {
     "data": {
      "image/png": "[encoded data removed]",
      "text/plain": [
       "<Figure size 1200x600 with 1 Axes>"
      ]
     },
     "metadata": {},
     "output_type": "display_data"
    }
   ],
   "source": [
    "monthly_expense = df[df['Income/Expense'] == 'Expense'].groupby('Month')['Amount'].sum()\n",
    "\n",
    "plt.figure(figsize=(12,6))\n",
    "monthly_expense.plot(marker='o', color='tomato')\n",
    "plt.title('Monthly Expense Trend')\n",
    "plt.xlabel('Month')\n",
    "plt.ylabel('Total Expenses')\n",
    "plt.xticks(rotation=45)\n",
    "plt.grid(True)\n",
    "plt.show()"
   ]
  },
  {
   "cell_type": "code",
   "execution_count": 161,
   "id": "885498ff",
   "metadata": {},
   "outputs": [
    {
     "data": {
      "image/png": "[encoded data removed]",
      "text/plain": [
       "<Figure size 600x600 with 1 Axes>"
      ]
     },
     "metadata": {},
     "output_type": "display_data"
    }
   ],
   "source": [
    "plt.figure(figsize=(6,6))\n",
    "df['Mode'].value_counts().plot.pie(autopct='%1.1f%%', startangle=140, cmap='Pastel1')\n",
    "plt.title('Transaction Modes Distribution')\n",
    "plt.ylabel('')\n",
    "plt.show()"
   ]
  },
  {
   "cell_type": "code",
   "execution_count": 162,
   "id": "7458cbd0",
   "metadata": {},
   "outputs": [
    {
     "data": {
      "image/png": "[encoded data removed]",
      "text/plain": [
       "<Figure size 640x480 with 1 Axes>"
      ]
     },
     "metadata": {},
     "output_type": "display_data"
    }
   ],
   "source": [
    "df['Income/Expense'].value_counts().plot.pie(autopct='%1.1f%%', startangle=90, title='Income vs Expense')\n",
    "plt.ylabel('')\n",
    "plt.show()"
   ]
  },
  {
   "cell_type": "code",
   "execution_count": 163,
   "id": "893f19bb",
   "metadata": {},
   "outputs": [
    {
     "data": {
      "image/png": "[encoded data removed]",
      "text/plain": [
       "<Figure size 1200x400 with 1 Axes>"
      ]
     },
     "metadata": {},
     "output_type": "display_data"
    }
   ],
   "source": [
    "df_daily = df[df['Income/Expense']=='Expense'].groupby('Date')['Amount'].sum()\n",
    "\n",
    "df_daily.plot(figsize=(12, 4), title='Daily Spending Trend')\n",
    "plt.xlabel('Date')\n",
    "plt.ylabel('Amount')\n",
    "plt.tight_layout()\n",
    "plt.show()\n"
   ]
  },
  {
   "cell_type": "code",
   "execution_count": 164,
   "id": "7ee9d4aa",
   "metadata": {},
   "outputs": [
    {
     "data": {
      "image/png": "[encoded data removed]",
      "text/plain": [
       "<Figure size 1200x600 with 1 Axes>"
      ]
     },
     "metadata": {},
     "output_type": "display_data"
    }
   ],
   "source": [
    "plt.figure(figsize=(12, 6))\n",
    "top_subcat = df[df['Income/Expense'] == 'Expense'].groupby('Subcategory')['Amount'].sum().sort_values(ascending=False).head(10)\n",
    "sns.barplot(x=top_subcat.values, y=top_subcat.index)\n",
    "plt.title('Top 10 Subcategories by Amount Spent')\n",
    "plt.xlabel('Total Amount')\n",
    "plt.ylabel('Subcategory')\n",
    "plt.tight_layout()\n",
    "plt.show()\n"
   ]
  },
  {
   "cell_type": "code",
   "execution_count": 165,
   "id": "f7f9fc85",
   "metadata": {},
   "outputs": [
    {
     "data": {
      "text/plain": [
       "Subcategory\n",
       "Laundry             1515.00\n",
       "Tea                 1505.00\n",
       "Sweets              1432.00\n",
       "beverage            1371.00\n",
       "Hotstar             1243.49\n",
       "Rakshabandhan       1000.00\n",
       "Water                925.00\n",
       "gadgets              799.00\n",
       "Cable TV             783.00\n",
       "Petrol               782.00\n",
       "Bread                685.00\n",
       "Kindle unlimited     676.00\n",
       "Ganesh Pujan         612.00\n",
       "Biscuits             597.00\n",
       "Accessories          530.00\n",
       "makeup               525.00\n",
       "Audible              398.00\n",
       "Potato               370.00\n",
       "Onions               366.00\n",
       "ropeway              353.00\n",
       "curd                 345.00\n",
       "Entry Fees           308.85\n",
       "medicine             300.00\n",
       "OTT Platform         300.00\n",
       "chocolate            216.00\n",
       "Books                140.00\n",
       "garbage disposal      67.00\n",
       "Courier               50.00\n",
       "Updation              50.00\n",
       "School supplies       20.00\n",
       "Name: Amount, dtype: float64"
      ]
     },
     "execution_count": 165,
     "metadata": {},
     "output_type": "execute_result"
    }
   ],
   "source": [
    "df[df['Income/Expense'] == 'Expense'].groupby('Subcategory')['Amount'].sum().sort_values(ascending=False).tail(30)"
   ]
  },
  {
   "cell_type": "code",
   "execution_count": 166,
   "id": "88798b47",
   "metadata": {},
   "outputs": [
    {
     "data": {
      "text/html": [
       "<div>\n",
       "<style scoped>\n",
       "    .dataframe tbody tr th:only-of-type {\n",
       "        vertical-align: middle;\n",
       "    }\n",
       "\n",
       "    .dataframe tbody tr th {\n",
       "        vertical-align: top;\n",
       "    }\n",
       "\n",
       "    .dataframe thead th {\n",
       "        text-align: right;\n",
       "    }\n",
       "</style>\n",
       "<table border=\"1\" class=\"dataframe\">\n",
       "  <thead>\n",
       "    <tr style=\"text-align: right;\">\n",
       "      <th></th>\n",
       "      <th>Category</th>\n",
       "      <th>Subcategory</th>\n",
       "      <th>count</th>\n",
       "    </tr>\n",
       "  </thead>\n",
       "  <tbody>\n",
       "    <tr>\n",
       "      <th>0</th>\n",
       "      <td>Transportation</td>\n",
       "      <td>auto</td>\n",
       "      <td>288</td>\n",
       "    </tr>\n",
       "    <tr>\n",
       "      <th>1</th>\n",
       "      <td>Transportation</td>\n",
       "      <td>Train</td>\n",
       "      <td>196</td>\n",
       "    </tr>\n",
       "    <tr>\n",
       "      <th>2</th>\n",
       "      <td>Transportation</td>\n",
       "      <td>Taxi</td>\n",
       "      <td>168</td>\n",
       "    </tr>\n",
       "    <tr>\n",
       "      <th>3</th>\n",
       "      <td>Transportation</td>\n",
       "      <td>train</td>\n",
       "      <td>25</td>\n",
       "    </tr>\n",
       "    <tr>\n",
       "      <th>4</th>\n",
       "      <td>Transportation</td>\n",
       "      <td>Travels</td>\n",
       "      <td>21</td>\n",
       "    </tr>\n",
       "    <tr>\n",
       "      <th>5</th>\n",
       "      <td>Transportation</td>\n",
       "      <td>Bus</td>\n",
       "      <td>19</td>\n",
       "    </tr>\n",
       "    <tr>\n",
       "      <th>6</th>\n",
       "      <td>Transportation</td>\n",
       "      <td>Bike</td>\n",
       "      <td>14</td>\n",
       "    </tr>\n",
       "    <tr>\n",
       "      <th>7</th>\n",
       "      <td>Transportation</td>\n",
       "      <td>Petrol</td>\n",
       "      <td>4</td>\n",
       "    </tr>\n",
       "    <tr>\n",
       "      <th>8</th>\n",
       "      <td>Transportation</td>\n",
       "      <td>ropeway</td>\n",
       "      <td>2</td>\n",
       "    </tr>\n",
       "  </tbody>\n",
       "</table>\n",
       "</div>"
      ],
      "text/plain": [
       "         Category Subcategory  count\n",
       "0  Transportation        auto    288\n",
       "1  Transportation       Train    196\n",
       "2  Transportation        Taxi    168\n",
       "3  Transportation       train     25\n",
       "4  Transportation     Travels     21\n",
       "5  Transportation         Bus     19\n",
       "6  Transportation        Bike     14\n",
       "7  Transportation      Petrol      4\n",
       "8  Transportation     ropeway      2"
      ]
     },
     "execution_count": 166,
     "metadata": {},
     "output_type": "execute_result"
    }
   ],
   "source": [
    "df[df['Category']== 'Transportation'].groupby('Category')['Subcategory'].value_counts().reset_index()"
   ]
  },
  {
   "cell_type": "code",
   "execution_count": 167,
   "id": "6d6747bc",
   "metadata": {},
   "outputs": [],
   "source": [
    "df = df[df['Income/Expense'] == 'Expense']"
   ]
  },
  {
   "cell_type": "code",
   "execution_count": 169,
   "id": "f5839736",
   "metadata": {},
   "outputs": [
    {
     "data": {
      "text/html": [
       "<div>\n",
       "<style scoped>\n",
       "    .dataframe tbody tr th:only-of-type {\n",
       "        vertical-align: middle;\n",
       "    }\n",
       "\n",
       "    .dataframe tbody tr th {\n",
       "        vertical-align: top;\n",
       "    }\n",
       "\n",
       "    .dataframe thead th {\n",
       "        text-align: right;\n",
       "    }\n",
       "</style>\n",
       "<table border=\"1\" class=\"dataframe\">\n",
       "  <thead>\n",
       "    <tr style=\"text-align: right;\">\n",
       "      <th></th>\n",
       "      <th>index</th>\n",
       "      <th>Subcategory</th>\n",
       "    </tr>\n",
       "  </thead>\n",
       "  <tbody>\n",
       "    <tr>\n",
       "      <th>0</th>\n",
       "      <td>0</td>\n",
       "      <td>Train</td>\n",
       "    </tr>\n",
       "    <tr>\n",
       "      <th>1</th>\n",
       "      <td>1</td>\n",
       "      <td>snacks</td>\n",
       "    </tr>\n",
       "    <tr>\n",
       "      <th>2</th>\n",
       "      <td>2</td>\n",
       "      <td>Netflix</td>\n",
       "    </tr>\n",
       "    <tr>\n",
       "      <th>3</th>\n",
       "      <td>3</td>\n",
       "      <td>Mobile Service Provider</td>\n",
       "    </tr>\n",
       "    <tr>\n",
       "      <th>4</th>\n",
       "      <td>4</td>\n",
       "      <td>Ganesh Pujan</td>\n",
       "    </tr>\n",
       "    <tr>\n",
       "      <th>...</th>\n",
       "      <td>...</td>\n",
       "      <td>...</td>\n",
       "    </tr>\n",
       "    <tr>\n",
       "      <th>7371</th>\n",
       "      <td>7947</td>\n",
       "      <td>Netflix</td>\n",
       "    </tr>\n",
       "    <tr>\n",
       "      <th>7372</th>\n",
       "      <td>7948</td>\n",
       "      <td>Pocket money</td>\n",
       "    </tr>\n",
       "    <tr>\n",
       "      <th>7373</th>\n",
       "      <td>7949</td>\n",
       "      <td>Edtech Course</td>\n",
       "    </tr>\n",
       "    <tr>\n",
       "      <th>7374</th>\n",
       "      <td>7950</td>\n",
       "      <td>Train</td>\n",
       "    </tr>\n",
       "    <tr>\n",
       "      <th>7375</th>\n",
       "      <td>7951</td>\n",
       "      <td>Diwali</td>\n",
       "    </tr>\n",
       "  </tbody>\n",
       "</table>\n",
       "<p>7376 rows × 2 columns</p>\n",
       "</div>"
      ],
      "text/plain": [
       "      index              Subcategory\n",
       "0         0                    Train\n",
       "1         1                   snacks\n",
       "2         2                  Netflix\n",
       "3         3  Mobile Service Provider\n",
       "4         4             Ganesh Pujan\n",
       "...     ...                      ...\n",
       "7371   7947                  Netflix\n",
       "7372   7948             Pocket money\n",
       "7373   7949            Edtech Course\n",
       "7374   7950                    Train\n",
       "7375   7951                   Diwali\n",
       "\n",
       "[7376 rows x 2 columns]"
      ]
     },
     "execution_count": 169,
     "metadata": {},
     "output_type": "execute_result"
    }
   ],
   "source": [
    "df['Subcategory'].reset_index()"
   ]
  },
  {
   "cell_type": "code",
   "execution_count": null,
   "id": "4ee28649",
   "metadata": {},
   "outputs": [],
   "source": []
  }
 ],
 "metadata": {
  "kernelspec": {
   "display_name": "myvenv",
   "language": "python",
   "name": "python3"
  },
  "language_info": {
   "codemirror_mode": {
    "name": "ipython",
    "version": 3
   },
   "file_extension": ".py",
   "mimetype": "text/x-python",
   "name": "python",
   "nbconvert_exporter": "python",
   "pygments_lexer": "ipython3",
   "version": "3.12.11"
  }
 },
 "nbformat": 4,
 "nbformat_minor": 5
}
